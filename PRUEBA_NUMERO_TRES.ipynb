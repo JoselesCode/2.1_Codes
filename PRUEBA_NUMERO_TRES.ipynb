{
  "nbformat": 4,
  "nbformat_minor": 0,
  "metadata": {
    "colab": {
      "provenance": [],
      "authorship_tag": "ABX9TyOaNaDSEab5dSLpBJnAWn6C",
      "include_colab_link": true
    },
    "kernelspec": {
      "name": "python3",
      "display_name": "Python 3"
    },
    "language_info": {
      "name": "python"
    }
  },
  "cells": [
    {
      "cell_type": "markdown",
      "metadata": {
        "id": "view-in-github",
        "colab_type": "text"
      },
      "source": [
        "<a href=\"https://colab.research.google.com/github/JoselesCode/2.1_Codes/blob/main/PRUEBA_NUMERO_TRES.ipynb\" target=\"_parent\"><img src=\"https://colab.research.google.com/assets/colab-badge.svg\" alt=\"Open In Colab\"/></a>"
      ]
    },
    {
      "cell_type": "code",
      "execution_count": null,
      "metadata": {
        "id": "j9svnBnKCj76"
      },
      "outputs": [],
      "source": [
        "#Prueba N°3 */ Jose Diaz Gonzalez /*\n",
        "pc_industry = []\n",
        "def grabar_producto():\n",
        "    producto = {}\n",
        "    producto[\"ID\"]               = input(\"Ingrese el ID del producto: \")\n",
        "    producto[\"Tipo de producto\"] = input(\"Ingrese el tipo de producto: \")\n",
        "    producto[\"Marca\"]            = input(\"Ingrese la marca: \")\n",
        "    producto[\"Modelo\"]           = input(\"Ingrese el modelo: \")\n",
        "    producto[\"Cantidad en stock\"]= int(input(\"Ingrese la cantidad en stock: \"))\n",
        "    producto[\"Precio\"]           = float(input(\"Ingrese el precio: \"))\n",
        "\n",
        "    pc_industry.append(producto)\n",
        "    print(\"Producto ha sido grabado cor exito.\")\n",
        "\n",
        "def buscar_producto():\n",
        "    id_producto = input(\"Ingrese el ID del producto a buscar: \")\n",
        "\n",
        "    for producto in pc_industry:\n",
        "        if producto[\"ID\"] == id_producto:\n",
        "            print(\"Información del producto:\")\n",
        "            print(f\"ID: {producto['ID']}\")\n",
        "            print(f\"Tipo de producto: {producto['Tipo de producto']}\")\n",
        "            print(f\"Marca: {producto['Marca']}\")\n",
        "            print(f\"Modelo: {producto['Modelo']}\")\n",
        "            print(f\"Cantidad en stock: {producto['Cantidad en stock']}\")\n",
        "            print(f\"Precio: {producto['Precio']}\")\n",
        "            return\n",
        "    print(\"\")\n",
        "    print(\"Producto no se encuentra grabado en la base.\")\n",
        "    print(\"\")\n",
        "\n",
        "def imprimir_cotizacion():\n",
        "    nombre_cliente = input(\"Ingrese el nombre del cliente: \")\n",
        "    cantidad_productos = int(input(\"Ingrese la cantidad de productos a cotizar: \"))\n",
        "    total_pagar = 0\n",
        "    print(\"\")\n",
        "    print(\"Cotización venta PC-INDUSTRY:\")\n",
        "    print(\"\")\n",
        "    print(f\"Cliente: {nombre_cliente}\")\n",
        "\n",
        "    for i in range(cantidad_productos):\n",
        "        id_producto = input(f\"Ingrese el ID del producto {i+1}: \")\n",
        "\n",
        "        for producto in pc_industry:\n",
        "            if producto[\"ID\"] == id_producto:\n",
        "                cantidad = int(input(f\"Ingrese la cantidad del producto a cotizar {producto['ID']}: \"))\n",
        "                coti = cantidad * producto['Precio']\n",
        "                total_pagar += coti\n",
        "\n",
        "                print(f\"Producto: {producto['Tipo de producto']} - {producto['Marca']} {producto['Modelo']}\")\n",
        "                print(f\"Cantidad: {cantidad}\")\n",
        "                print(f\"Subtotal: ${round(coti)}\")\n",
        "    print(\"\")\n",
        "    print(f\"Total a pagar: ${round(total_pagar)}\")\n",
        "\n",
        "while True:\n",
        "    print(\"\")\n",
        "    print(\"\\n----- MENU PC-INDUSTRY -----\")\n",
        "    print(\"\")\n",
        "    print(\"1. Grabar producto\")\n",
        "    print(\"2. Buscar producto\")\n",
        "    print(\"3. Imprimir Cotización\")\n",
        "    print(\"4. Salir\")\n",
        "    print(\"\")\n",
        "    op = input(\"Seleccione una de las opciónes: \")\n",
        "\n",
        "    if op == \"1\":\n",
        "        print(\"\")\n",
        "        grabar_producto()\n",
        "        print(\"\")\n",
        "    elif op == \"2\":\n",
        "        print(\"\")\n",
        "        buscar_producto()\n",
        "        print(\"\")\n",
        "    elif op == \"3\":\n",
        "        print(\"\")\n",
        "        imprimir_cotizacion()\n",
        "        print(\"\")\n",
        "    elif op == \"4\":\n",
        "        print(\"\")\n",
        "        print(\"¡Ha salido del programa! /   Jose D. Gonzalez_Version1.4\")\n",
        "        print(\"\")\n",
        "        break\n",
        "    else:\n",
        "        print(\"\")\n",
        "        print(\"Opción no válida, Intente seleccionar correctamente\")\n",
        "        print(\"\")\n",
        ""
      ]
    }
  ]
}